{
  "nbformat": 4,
  "nbformat_minor": 0,
  "metadata": {
    "colab": {
      "provenance": [],
      "authorship_tag": "ABX9TyN9s8ky1ne46eWtMJ+5tzeC",
      "include_colab_link": true
    },
    "kernelspec": {
      "name": "python3",
      "display_name": "Python 3"
    },
    "language_info": {
      "name": "python"
    }
  },
  "cells": [
    {
      "cell_type": "markdown",
      "metadata": {
        "id": "view-in-github",
        "colab_type": "text"
      },
      "source": [
        "<a href=\"https://colab.research.google.com/github/hamidanwar/hamidanwar-Lab3.ipynb/blob/main/Rep.ipynb\" target=\"_parent\"><img src=\"https://colab.research.google.com/assets/colab-badge.svg\" alt=\"Open In Colab\"/></a>"
      ]
    },
    {
      "cell_type": "code",
      "execution_count": null,
      "metadata": {
        "id": "x1MmRmjt-FYc"
      },
      "outputs": [],
      "source": []
    },
    {
      "cell_type": "markdown",
      "source": [
        "# **Dictionary**"
      ],
      "metadata": {
        "id": "DMf8Irba-hox"
      }
    },
    {
      "cell_type": "code",
      "source": [
        "from collections import deque\n",
        "\n",
        "world_cities = {\n",
        "    'Tokyo': ['Seoul'],\n",
        "    'Seoul': ['Tokyo', 'Beijing'],\n",
        "    'Beijing': ['Seoul', 'Bangkok', 'Singapore'],\n",
        "    'Bangkok': ['Beijing', 'Kuala Lumpur'],\n",
        "    'Singapore': ['Beijing'],\n",
        "    'Kuala Lumpur': ['Bangkok', 'Jakarta'],\n",
        "    'Jakarta': ['Kuala Lumpur', 'Manila'],\n",
        "    'Manila': ['Jakarta']\n",
        "}\n",
        "\n",
        "def bfs_shortest_path(graph, start, goal):\n",
        "    queue = deque([[start]])\n",
        "    visited = set()\n",
        "\n",
        "    while queue:\n",
        "        path = queue.popleft()\n",
        "        current_city = path[-1]\n",
        "\n",
        "        if current_city == goal:\n",
        "            return path\n",
        "\n",
        "        if current_city not in visited:\n",
        "            visited.add(current_city)\n",
        "\n",
        "            for neighbor in graph.get(current_city, []):\n",
        "                new_path = list(path)\n",
        "                new_path.append(neighbor)\n",
        "                queue.append(new_path)\n",
        "\n",
        "    return None  # No path found\n",
        "\n",
        "def dfs_path(graph, start, goal, path=None, visited=None):\n",
        "    if path is None:\n",
        "        path = []\n",
        "    if visited is None:\n",
        "        visited = set()\n",
        "\n",
        "    path.append(start)\n",
        "    visited.add(start)\n",
        "\n",
        "    if start == goal:\n",
        "        return path\n",
        "\n",
        "    for neighbor in graph.get(start, []):\n",
        "        if neighbor not in visited:\n",
        "            result = dfs_path(graph, neighbor, goal, path.copy(), visited.copy())\n",
        "            if result:\n",
        "                return result\n",
        "\n",
        "    return None  # No path found\n",
        "\n",
        "# ----------------------\n",
        "# Testing the functions\n",
        "# ----------------------\n",
        "start_city = \"Tokyo\"\n",
        "goal_city = \"Manila\"\n",
        "\n",
        "bfs_result = bfs_shortest_path(world_cities, start_city, goal_city)\n",
        "print(f\"BFS Shortest Path from {start_city} to {goal_city}: {bfs_result}\")\n",
        "\n",
        "dfs_result = dfs_path(world_cities, start_city, goal_city)\n",
        "print(f\"DFS Path from {start_city} to {goal_city}: {dfs_result}\")\n",
        "\n"
      ],
      "metadata": {
        "colab": {
          "base_uri": "https://localhost:8080/"
        },
        "id": "v3gV7ARoBhsp",
        "outputId": "fa3beeba-9e5b-4c11-a76d-0325ce8051bb"
      },
      "execution_count": null,
      "outputs": [
        {
          "output_type": "stream",
          "name": "stdout",
          "text": [
            "BFS Shortest Path from Tokyo to Manila: ['Tokyo', 'Seoul', 'Beijing', 'Bangkok', 'Kuala Lumpur', 'Jakarta', 'Manila']\n",
            "DFS Path from Tokyo to Manila: ['Tokyo', 'Seoul', 'Beijing', 'Bangkok', 'Kuala Lumpur', 'Jakarta', 'Manila']\n"
          ]
        }
      ]
    },
    {
      "cell_type": "markdown",
      "source": [
        "# New section"
      ],
      "metadata": {
        "id": "0E8PSh8uIVzu"
      }
    }
  ]
}